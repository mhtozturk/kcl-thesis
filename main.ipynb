{
 "cells": [
  {
   "cell_type": "markdown",
   "metadata": {},
   "source": [
    "# **Main Notebook for Thesis Project**"
   ]
  },
  {
   "cell_type": "code",
   "execution_count": 1,
   "metadata": {},
   "outputs": [],
   "source": [
    "import re\n",
    "import requests\n",
    "import pandas as pd\n",
    "from bs4 import BeautifulSoup\n",
    "# filespace\n",
    "from data import Data"
   ]
  },
  {
   "cell_type": "code",
   "execution_count": 2,
   "metadata": {},
   "outputs": [
    {
     "name": "stdout",
     "output_type": "stream",
     "text": [
      "Status: [200], CIK data obtained successfully.\n"
     ]
    }
   ],
   "source": [
    "# agent for accessing API\n",
    "AGENT = {'User-Agent': 'mehmet.ozturk@kcl.ac.uk'}\n",
    "# getting CIK DataFrame\n",
    "ciks = requests.get(\n",
    "    'https://www.sec.gov/files/company_tickers.json',\n",
    "    headers = AGENT\n",
    ")\n",
    "# success check\n",
    "if ciks.status_code == 200:\n",
    "    print(f'Status: [{ciks.status_code}], CIK data obtained successfully.')\n",
    "else:\n",
    "    print(f'Status: [{ciks.status_code}], error otaining CIK.')"
   ]
  },
  {
   "cell_type": "code",
   "execution_count": 3,
   "metadata": {},
   "outputs": [
    {
     "data": {
      "text/html": [
       "<div>\n",
       "<style scoped>\n",
       "    .dataframe tbody tr th:only-of-type {\n",
       "        vertical-align: middle;\n",
       "    }\n",
       "\n",
       "    .dataframe tbody tr th {\n",
       "        vertical-align: top;\n",
       "    }\n",
       "\n",
       "    .dataframe thead th {\n",
       "        text-align: right;\n",
       "    }\n",
       "</style>\n",
       "<table border=\"1\" class=\"dataframe\">\n",
       "  <thead>\n",
       "    <tr style=\"text-align: right;\">\n",
       "      <th></th>\n",
       "      <th>cik_str</th>\n",
       "      <th>ticker</th>\n",
       "      <th>title</th>\n",
       "    </tr>\n",
       "  </thead>\n",
       "  <tbody>\n",
       "    <tr>\n",
       "      <th>0</th>\n",
       "      <td>789019</td>\n",
       "      <td>MSFT</td>\n",
       "      <td>MICROSOFT CORP</td>\n",
       "    </tr>\n",
       "    <tr>\n",
       "      <th>1</th>\n",
       "      <td>320193</td>\n",
       "      <td>AAPL</td>\n",
       "      <td>Apple Inc.</td>\n",
       "    </tr>\n",
       "    <tr>\n",
       "      <th>2</th>\n",
       "      <td>1045810</td>\n",
       "      <td>NVDA</td>\n",
       "      <td>NVIDIA CORP</td>\n",
       "    </tr>\n",
       "    <tr>\n",
       "      <th>3</th>\n",
       "      <td>1652044</td>\n",
       "      <td>GOOGL</td>\n",
       "      <td>Alphabet Inc.</td>\n",
       "    </tr>\n",
       "    <tr>\n",
       "      <th>4</th>\n",
       "      <td>1018724</td>\n",
       "      <td>AMZN</td>\n",
       "      <td>AMAZON COM INC</td>\n",
       "    </tr>\n",
       "  </tbody>\n",
       "</table>\n",
       "</div>"
      ],
      "text/plain": [
       "   cik_str ticker           title\n",
       "0   789019   MSFT  MICROSOFT CORP\n",
       "1   320193   AAPL      Apple Inc.\n",
       "2  1045810   NVDA     NVIDIA CORP\n",
       "3  1652044  GOOGL   Alphabet Inc.\n",
       "4  1018724   AMZN  AMAZON COM INC"
      ]
     },
     "execution_count": 3,
     "metadata": {},
     "output_type": "execute_result"
    }
   ],
   "source": [
    "# transforming into DataFrame\n",
    "ciks = pd.DataFrame.from_dict(\n",
    "    ciks.json(),\n",
    "    orient = 'index'\n",
    ")\n",
    "# formatting to string\n",
    "ciks = ciks.astype(str)\n",
    "ciks.head()"
   ]
  },
  {
   "cell_type": "code",
   "execution_count": 4,
   "metadata": {},
   "outputs": [
    {
     "name": "stdout",
     "output_type": "stream",
     "text": [
      "Respone: [200], metadata obtained successfully.\n",
      "Respone: [200], filing obtained successfully.\n",
      "Current filename:\t a10-qq220183312018.htm\n",
      "OIE page found\n",
      "OIE table found\n",
      "BS page found\n",
      "BS table found\n",
      "CF page found\n",
      "CF table found\n",
      "Respone: [200], filing obtained successfully.\n",
      "Current filename:\t a10-qq320186302018.htm\n",
      "OIE page found\n",
      "OIE table found\n",
      "BS page found\n",
      "BS table found\n",
      "CF page found\n",
      "CF table found\n"
     ]
    }
   ],
   "source": [
    "AAPL = Data('AAPL')\n",
    "AAPL.get_cik(ciks)\n",
    "AAPL.get_metadata()\n",
    "AAPL.process_filings()\n"
   ]
  },
  {
   "cell_type": "code",
   "execution_count": 5,
   "metadata": {},
   "outputs": [
    {
     "data": {
      "text/plain": [
       "{'2018-03-31': {'revenue': 61137,\n",
       "  'gross profit': 23422,\n",
       "  'operating income': 15894,\n",
       "  'net income': 13822,\n",
       "  'eps': 2.75,\n",
       "  'current assets': 130053,\n",
       "  'current liabilities': 89320,\n",
       "  'shareholder equity': 126878,\n",
       "  'net cash operating': 43423,\n",
       "  'net cash investing': 15120,\n",
       "  'net cash financing': 33773,\n",
       "  'cash': 45059},\n",
       " '2018-06-30': {'revenue': 53265,\n",
       "  'gross profit': 20421,\n",
       "  'operating income': 12612,\n",
       "  'net income': 11519,\n",
       "  'eps': 2.36,\n",
       "  'current assets': 115761,\n",
       "  'current liabilities': 88548,\n",
       "  'shareholder equity': 114949,\n",
       "  'net cash operating': 57911,\n",
       "  'net cash investing': 19067,\n",
       "  'net cash financing': 65296,\n",
       "  'cash': 31971}}"
      ]
     },
     "execution_count": 5,
     "metadata": {},
     "output_type": "execute_result"
    }
   ],
   "source": [
    "AAPL.data"
   ]
  }
 ],
 "metadata": {
  "kernelspec": {
   "display_name": "kcl-thesis",
   "language": "python",
   "name": "python3"
  },
  "language_info": {
   "codemirror_mode": {
    "name": "ipython",
    "version": 3
   },
   "file_extension": ".py",
   "mimetype": "text/x-python",
   "name": "python",
   "nbconvert_exporter": "python",
   "pygments_lexer": "ipython3",
   "version": "3.10.14"
  }
 },
 "nbformat": 4,
 "nbformat_minor": 2
}
